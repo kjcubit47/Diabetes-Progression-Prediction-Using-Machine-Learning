{
 "cells": [
  {
   "cell_type": "markdown",
   "id": "5a105844-6d9f-40d4-a00a-eda68202d55f",
   "metadata": {},
   "source": [
    "# Diabetes Progression Prediction Using Machine Learning\n",
    "This notebook demonstrates how to predict diabetes progression using various machine learning models. We will perform data preprocessing, exploratory data analysis (EDA), and implement three models: Linear Regression, Random Forest Regressor, and Gradient Boosting Regressor. We will compare the models using Mean Squared Error (MSE) and R² score, and visualize key findings."
   ]
  },
  {
   "cell_type": "code",
   "execution_count": 4,
   "id": "cff56062-43ee-4e0c-a6c0-96150c1e6a87",
   "metadata": {
    "jp-MarkdownHeadingCollapsed": true
   },
   "outputs": [
    {
     "ename": "ModuleNotFoundError",
     "evalue": "No module named 'numpy'",
     "output_type": "error",
     "traceback": [
      "\u001b[1;31m---------------------------------------------------------------------------\u001b[0m",
      "\u001b[1;31mModuleNotFoundError\u001b[0m                       Traceback (most recent call last)",
      "Cell \u001b[1;32mIn[4], line 3\u001b[0m\n\u001b[0;32m      1\u001b[0m \u001b[38;5;66;03m## Import Libraries\u001b[39;00m\n\u001b[1;32m----> 3\u001b[0m \u001b[38;5;28;01mimport\u001b[39;00m \u001b[38;5;21;01mnumpy\u001b[39;00m \u001b[38;5;28;01mas\u001b[39;00m \u001b[38;5;21;01mnp\u001b[39;00m\n\u001b[0;32m      4\u001b[0m \u001b[38;5;28;01mimport\u001b[39;00m \u001b[38;5;21;01mpandas\u001b[39;00m \u001b[38;5;28;01mas\u001b[39;00m \u001b[38;5;21;01mpd\u001b[39;00m\n\u001b[0;32m      5\u001b[0m \u001b[38;5;28;01mimport\u001b[39;00m \u001b[38;5;21;01mseaborn\u001b[39;00m \u001b[38;5;28;01mas\u001b[39;00m \u001b[38;5;21;01msns\u001b[39;00m\n",
      "\u001b[1;31mModuleNotFoundError\u001b[0m: No module named 'numpy'"
     ]
    }
   ],
   "source": [
    "## Import Libraries\n",
    "\n",
    "import numpy as np\n",
    "import pandas as pd\n",
    "import seaborn as sns\n",
    "import matplotlib.pyplot as plt\n",
    "from sklearn.model_selection import train_test_split\n",
    "from sklearn.linear_model import LinearRegression\n",
    "from sklearn.ensemble import RandomForestRegressor, GradientBoostingRegressor\n",
    "from sklearn.metrics import mean_squared_error, r2_score\n",
    "from sklearn.datasets import load_diabetes"
   ]
  },
  {
   "cell_type": "markdown",
   "id": "9aaccd57-cf1e-4678-a23a-6cc376b8ad0b",
   "metadata": {},
   "source": [
    "## Load the diabetes dataset"
   ]
  },
  {
   "cell_type": "code",
   "execution_count": 2,
   "id": "883361fa-10c4-486f-a065-a9e9bb5a3c66",
   "metadata": {},
   "outputs": [
    {
     "ename": "NameError",
     "evalue": "name 'load_diabetes' is not defined",
     "output_type": "error",
     "traceback": [
      "\u001b[1;31m---------------------------------------------------------------------------\u001b[0m",
      "\u001b[1;31mNameError\u001b[0m                                 Traceback (most recent call last)",
      "Cell \u001b[1;32mIn[2], line 1\u001b[0m\n\u001b[1;32m----> 1\u001b[0m diabetes_data \u001b[38;5;241m=\u001b[39m \u001b[43mload_diabetes\u001b[49m()\n\u001b[0;32m      2\u001b[0m df \u001b[38;5;241m=\u001b[39m pd\u001b[38;5;241m.\u001b[39mDataFrame(data\u001b[38;5;241m=\u001b[39mdiabetes_data\u001b[38;5;241m.\u001b[39mdata, columns\u001b[38;5;241m=\u001b[39mdiabetes_data\u001b[38;5;241m.\u001b[39mfeature_names)\n\u001b[0;32m      3\u001b[0m df[\u001b[38;5;124m'\u001b[39m\u001b[38;5;124mtarget\u001b[39m\u001b[38;5;124m'\u001b[39m] \u001b[38;5;241m=\u001b[39m diabetes_data\u001b[38;5;241m.\u001b[39mtarget\n",
      "\u001b[1;31mNameError\u001b[0m: name 'load_diabetes' is not defined"
     ]
    }
   ],
   "source": [
    "diabetes_data = load_diabetes()\n",
    "df = pd.DataFrame(data=diabetes_data.data, columns=diabetes_data.feature_names)\n",
    "df['target'] = diabetes_data.target\n",
    "\n",
    "# Display the first few rows\n",
    "df.head()"
   ]
  },
  {
   "cell_type": "markdown",
   "id": "d1768259-6883-42a7-9f12-4385e838f069",
   "metadata": {},
   "source": [
    "## Exploratory Data Analysis (EDA)"
   ]
  },
  {
   "cell_type": "code",
   "execution_count": null,
   "id": "e35b7b5f-34c3-4380-bb5d-f36022ed43e3",
   "metadata": {},
   "outputs": [],
   "source": [
    "# Descriptive statistics\n",
    "df.describe()"
   ]
  },
  {
   "cell_type": "code",
   "execution_count": null,
   "id": "899a0172-8c06-4f40-a783-3cf426190b25",
   "metadata": {},
   "outputs": [],
   "source": [
    "# Correlation heatmap\n",
    "plt.figure(figsize=(10, 8))\n",
    "sns.heatmap(df.corr(), annot=True, cmap='coolwarm')\n",
    "plt.title('Correlation Heatmap of Features')\n",
    "plt.show()"
   ]
  },
  {
   "cell_type": "code",
   "execution_count": null,
   "id": "4475d7b6-7e9a-4542-9c04-79c510349636",
   "metadata": {},
   "outputs": [],
   "source": [
    "# Distribution of target variable\n",
    "sns.histplot(df['target'], kde=True)\n",
    "plt.title('Distribution of Diabetes Progression')\n",
    "plt.show()\n"
   ]
  },
  {
   "cell_type": "markdown",
   "id": "7817e597-e720-4132-ab0d-31299a474f68",
   "metadata": {},
   "source": [
    "## Train/Test Split"
   ]
  },
  {
   "cell_type": "code",
   "execution_count": null,
   "id": "a4dc9c57-d7d4-4e9a-9b00-d488fd4c0931",
   "metadata": {},
   "outputs": [],
   "source": [
    "# Split data into features and target variable\n",
    "X = df.drop(columns=['target'])\n",
    "y = df['target']\n",
    "\n",
    "# Train-test split\n",
    "X_train, X_test, y_train, y_test = train_test_split(X, y, test_size=0.2, random_state=42)\n"
   ]
  },
  {
   "cell_type": "markdown",
   "id": "ae227ee8-4d4e-4621-b88d-fb502871eba0",
   "metadata": {},
   "source": [
    "## Machine Learning Models"
   ]
  },
  {
   "cell_type": "markdown",
   "id": "ddf97a16-5e89-4895-b974-7a32c8c068ff",
   "metadata": {},
   "source": [
    "### Linear Regression"
   ]
  },
  {
   "cell_type": "code",
   "execution_count": null,
   "id": "1e6ff294-51f1-416e-be2f-756fe5552057",
   "metadata": {},
   "outputs": [],
   "source": [
    "# Train Linear Regression\n",
    "lin_reg = LinearRegression()\n",
    "lin_reg.fit(X_train, y_train)\n",
    "\n",
    "# Predictions and evaluation\n",
    "y_pred_lin = lin_reg.predict(X_test)\n",
    "mse_lin = mean_squared_error(y_test, y_pred_lin)\n",
    "r2_lin = r2_score(y_test, y_pred_lin)\n",
    "\n",
    "print(f'Linear Regression - MSE: {mse_lin:.2f}, R²: {r2_lin:.2f}')\n"
   ]
  },
  {
   "cell_type": "markdown",
   "id": "0033a781-e04c-48f4-b6f7-8378b953f0a1",
   "metadata": {},
   "source": [
    "### Random Forest Regressor"
   ]
  },
  {
   "cell_type": "code",
   "execution_count": null,
   "id": "b2beba21-b713-49c4-9665-a59ff2f20e69",
   "metadata": {},
   "outputs": [],
   "source": [
    "# Train Random Forest\n",
    "rf_reg = RandomForestRegressor(random_state=42)\n",
    "rf_reg.fit(X_train, y_train)\n",
    "\n",
    "# Predictions and evaluation\n",
    "y_pred_rf = rf_reg.predict(X_test)\n",
    "mse_rf = mean_squared_error(y_test, y_pred_rf)\n",
    "r2_rf = r2_score(y_test, y_pred_rf)\n",
    "\n",
    "print(f'Random Forest - MSE: {mse_rf:.2f}, R²: {r2_rf:.2f}')\n"
   ]
  },
  {
   "cell_type": "markdown",
   "id": "410667ba-66c3-4b1d-a7f7-e7fecf56b10f",
   "metadata": {},
   "source": [
    "### Gradient Boosting Regressor"
   ]
  },
  {
   "cell_type": "code",
   "execution_count": null,
   "id": "aa4e79ca-0458-4591-a8f5-d84fcdb48fe7",
   "metadata": {},
   "outputs": [],
   "source": [
    "# Train Gradient Boosting\n",
    "gb_reg = GradientBoostingRegressor(random_state=42)\n",
    "gb_reg.fit(X_train, y_train)\n",
    "\n",
    "# Predictions and evaluation\n",
    "y_pred_gb = gb_reg.predict(X_test)\n",
    "mse_gb = mean_squared_error(y_test, y_pred_gb)\n",
    "r2_gb = r2_score(y_test, y_pred_gb)\n",
    "\n",
    "print(f'Gradient Boosting - MSE: {mse_gb:.2f}, R²: {r2_gb:.2f}')\n"
   ]
  },
  {
   "cell_type": "markdown",
   "id": "ea702af0-ccce-4ed6-a8b9-417ce87ca8c2",
   "metadata": {},
   "source": [
    "## Model Comparison"
   ]
  },
  {
   "cell_type": "markdown",
   "id": "2123ac88-5802-454f-bdce-5454d0fb1bf0",
   "metadata": {},
   "source": [
    "### MSE and R² Comparison"
   ]
  },
  {
   "cell_type": "code",
   "execution_count": null,
   "id": "7ac133e1-1381-43a8-b6d7-9f652a0ad3d5",
   "metadata": {},
   "outputs": [],
   "source": [
    "# Compare model performance\n",
    "models = ['Linear Regression', 'Random Forest', 'Gradient Boosting']\n",
    "mse_values = [mse_lin, mse_rf, mse_gb]\n",
    "r2_values = [r2_lin, r2_rf, r2_gb]\n",
    "\n",
    "# Plot comparison\n",
    "plt.figure(figsize=(15, 5))\n",
    "plt.subplot(1, 2, 1)\n",
    "sns.barplot(x=models, y=mse_values)\n",
    "plt.title('Mean Squared Error Comparison')\n",
    "plt.ylabel('MSE')\n",
    "\n",
    "plt.subplot(1, 2, 2)\n",
    "sns.barplot(x=models, y=r2_values)\n",
    "plt.title('R² Score Comparison')\n",
    "plt.ylabel('R²')\n",
    "\n",
    "plt.show()"
   ]
  }
 ],
 "metadata": {
  "kernelspec": {
   "display_name": "Python 3 (ipykernel)",
   "language": "python",
   "name": "python3"
  },
  "language_info": {
   "codemirror_mode": {
    "name": "ipython",
    "version": 3
   },
   "file_extension": ".py",
   "mimetype": "text/x-python",
   "name": "python",
   "nbconvert_exporter": "python",
   "pygments_lexer": "ipython3",
   "version": "3.12.4"
  }
 },
 "nbformat": 4,
 "nbformat_minor": 5
}
